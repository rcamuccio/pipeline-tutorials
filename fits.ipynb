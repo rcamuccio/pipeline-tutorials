{
 "cells": [
  {
   "cell_type": "markdown",
   "id": "cf9aaf24-da49-4c43-b088-867cc3e1e8ed",
   "metadata": {},
   "source": [
    "# FITS Image Handling"
   ]
  },
  {
   "cell_type": "code",
   "execution_count": null,
   "id": "2736da64-2e6a-4c3a-bfef-2bb4818a8dd3",
   "metadata": {},
   "outputs": [],
   "source": [
    "from astropy.io import fits"
   ]
  },
  {
   "cell_type": "code",
   "execution_count": null,
   "id": "e91041b7-547b-4b45-9e2b-0060d6afa25f",
   "metadata": {},
   "outputs": [],
   "source": [
    "main_path = '/home/epimetheus/Documents/'\n",
    "fits_path = main_path + 'pipeline-tutorials/data/fits/ngc1341-20170113-stack.fit'\n",
    "out_path = main_path + 'pipeline-tutorials/data/fits/output.fit'"
   ]
  },
  {
   "cell_type": "markdown",
   "id": "9c197a08-7b1f-4f77-bccd-6c02fade0423",
   "metadata": {},
   "source": [
    "### Reading a FITS image"
   ]
  },
  {
   "cell_type": "code",
   "execution_count": null,
   "id": "dcc6297b-8b9b-4bde-be61-8b1e09ea85b6",
   "metadata": {},
   "outputs": [],
   "source": [
    "with fits.open(fits_path) as hdul:\n",
    "    hdul.info()"
   ]
  },
  {
   "cell_type": "markdown",
   "id": "19ba2bbc-2c4f-471d-b580-64013e8ba48b",
   "metadata": {},
   "source": [
    "### Working with FITS headers"
   ]
  },
  {
   "cell_type": "code",
   "execution_count": null,
   "id": "487dc3de-3b30-4dcf-ad28-9406185e113c",
   "metadata": {},
   "outputs": [],
   "source": [
    "hdr = fits.getheader(fits_path)\n",
    "list(hdr.keys())"
   ]
  },
  {
   "cell_type": "markdown",
   "id": "f0be599e-20fd-4e9f-9282-5079731b0a37",
   "metadata": {},
   "source": [
    "### Reading header metadata"
   ]
  },
  {
   "cell_type": "code",
   "execution_count": null,
   "id": "62ce3109-54d5-484f-8a90-ae87a0195217",
   "metadata": {},
   "outputs": [],
   "source": [
    "naxis1 = hdr['NAXIS1']\n",
    "naxis2 = hdr['NAXIS2']\n",
    "date = hdr['DATE']\n",
    "obj = hdr['OBJECT']\n",
    "exptime = hdr['EXPTIME']\n",
    "ccdtemp = hdr['CCD-TEMP']\n",
    "xbinning = hdr['XBINNING']\n",
    "fltr = hdr['FILTER']\n",
    "imagetyp = hdr['IMAGETYP']\n",
    "sitelat = hdr['SITELAT']\n",
    "sitelon = hdr['SITELONG']\n",
    "jd = hdr['JD']\n",
    "\n",
    "print(exptime, 's')"
   ]
  },
  {
   "cell_type": "markdown",
   "id": "0c03b4e9-0f82-4839-99a2-ed9d7b551d34",
   "metadata": {},
   "source": [
    "### Updating header metadata"
   ]
  },
  {
   "cell_type": "code",
   "execution_count": null,
   "id": "dbed4cdd-2eee-4dde-a166-e49478e84c12",
   "metadata": {},
   "outputs": [],
   "source": [
    "fits_header['COMMENT'] = 'File updated on 2025-06-17'"
   ]
  },
  {
   "cell_type": "markdown",
   "id": "266bbaab-94d4-4cfc-8ac6-815e22e666aa",
   "metadata": {},
   "source": [
    "### Writing a FITS image"
   ]
  },
  {
   "cell_type": "code",
   "execution_count": null,
   "id": "52711300-04ad-4852-bad7-8f71c0796630",
   "metadata": {},
   "outputs": [],
   "source": [
    "fits.writeto(out_path, fits_data, fits_header, overwrite=True)"
   ]
  }
 ],
 "metadata": {
  "kernelspec": {
   "display_name": "Python 3 (ipykernel)",
   "language": "python",
   "name": "python3"
  },
  "language_info": {
   "codemirror_mode": {
    "name": "ipython",
    "version": 3
   },
   "file_extension": ".py",
   "mimetype": "text/x-python",
   "name": "python",
   "nbconvert_exporter": "python",
   "pygments_lexer": "ipython3",
   "version": "3.12.11"
  }
 },
 "nbformat": 4,
 "nbformat_minor": 5
}
